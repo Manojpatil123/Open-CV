{
 "cells": [
  {
   "cell_type": "code",
   "execution_count": null,
   "metadata": {},
   "outputs": [],
   "source": [
    "\n",
    "import cv2\n",
    " \n",
    "faceCascade= cv2.CascadeClassifier(\"Resources/haarcascade_frontalface_default.xml\")\n",
    "img = cv2.imread('Resources/lena.png')\n",
    "imgGray = cv2.cvtColor(img,cv2.COLOR_BGR2GRAY)\n",
    " \n",
    "faces = faceCascade.detectMultiScale(imgGray,1.1,4)\n",
    " \n",
    "for (x,y,w,h) in faces:\n",
    "    cv2.rectangle(img,(x,y),(x+w,y+h),(255,0,0),2)\n",
    " \n",
    " \n",
    "cv2.imshow(\"Result\", img)\n",
    "cv2.waitKey(0)"
   ]
  }
 ],
 "metadata": {
  "kernelspec": {
   "display_name": "base",
   "language": "python",
   "name": "python3"
  },
  "language_info": {
   "name": "python",
   "version": "3.9.13 (main, Aug 25 2022, 23:51:50) [MSC v.1916 64 bit (AMD64)]"
  },
  "orig_nbformat": 4,
  "vscode": {
   "interpreter": {
    "hash": "cea894cb87433f794147f0515cca4735556a2e32d066dcce94a5bb00908a63e9"
   }
  }
 },
 "nbformat": 4,
 "nbformat_minor": 2
}
