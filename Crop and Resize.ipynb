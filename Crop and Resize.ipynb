{
 "cells": [
  {
   "cell_type": "code",
   "execution_count": null,
   "metadata": {},
   "outputs": [],
   "source": [
    "import cv2\n",
    "import numpy as np\n",
    "\n",
    "img = cv2.imread(\"Resources/shapes.png\")\n",
    "print(img.shape)\n",
    "\n",
    "imgResize = cv2.resize(img,(1000,500))\n",
    "print(imgResize.shape)\n",
    "\n",
    "imgCropped = img[46:119,352:495]\n",
    "\n",
    "cv2.imshow(\"Image\",img)\n",
    "#cv2.imshow(\"Image Resize\",imgResize)\n",
    "cv2.imshow(\"Image Cropped\",imgCropped)\n",
    "\n",
    "cv2.waitKey(0)"
   ]
  }
 ],
 "metadata": {
  "kernelspec": {
   "display_name": "base",
   "language": "python",
   "name": "python3"
  },
  "language_info": {
   "name": "python",
   "version": "3.9.13 (main, Aug 25 2022, 23:51:50) [MSC v.1916 64 bit (AMD64)]"
  },
  "orig_nbformat": 4,
  "vscode": {
   "interpreter": {
    "hash": "cea894cb87433f794147f0515cca4735556a2e32d066dcce94a5bb00908a63e9"
   }
  }
 },
 "nbformat": 4,
 "nbformat_minor": 2
}
